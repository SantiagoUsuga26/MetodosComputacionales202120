{
 "cells": [
  {
   "cell_type": "code",
   "execution_count": 3,
   "id": "308ef9d3",
   "metadata": {},
   "outputs": [],
   "source": [
    "import numpy as np\n",
    "import matplotlib.pyplot as plt\n",
    "from scipy.stats import bernoulli\n",
    "from scipy.stats import binom\n",
    "from scipy.stats import poisson"
   ]
  },
  {
   "cell_type": "code",
   "execution_count": 4,
   "id": "4e4628e6",
   "metadata": {},
   "outputs": [],
   "source": [
    "def GetHisto(Data,bines):\n",
    "    \n",
    "    h,bins = np.histogram(Data,bins=bines)\n",
    "    w = np.diff(bins)\n",
    "    m = bins[:-1] + 0.5*w[0]\n",
    "    \n",
    "    hnorm = h / (np.sum(h)*w)\n",
    "    \n",
    "    return h,hnorm,m,w"
   ]
  },
  {
   "cell_type": "code",
   "execution_count": 5,
   "id": "2d8506fc",
   "metadata": {},
   "outputs": [],
   "source": [
    "p = 1/6\n",
    "N = 1000"
   ]
  },
  {
   "cell_type": "code",
   "execution_count": 8,
   "id": "7281be55",
   "metadata": {},
   "outputs": [
    {
     "data": {
      "text/plain": [
       "array([833, 167])"
      ]
     },
     "execution_count": 8,
     "metadata": {},
     "output_type": "execute_result"
    }
   ],
   "source": [
    "b = bernoulli.rvs( p, size=N )\n",
    "xbins = np.linspace(0,2,3)\n",
    "xbins\n",
    "Hb, HNb, mb, w = GetHisto(b,xbins)\n",
    "Hb"
   ]
  },
  {
   "cell_type": "code",
   "execution_count": 12,
   "id": "c893b248",
   "metadata": {},
   "outputs": [
    {
     "data": {
      "image/png": "[encoded data removed]",
      "text/plain": [
       "<Figure size 432x288 with 1 Axes>"
      ]
     },
     "metadata": {
      "needs_background": "light"
     },
     "output_type": "display_data"
    }
   ],
   "source": [
    "plt.bar( mb, HNb, width=w, ec='k'  )\n",
    "plt.ylim(0,1)\n",
    "\n",
    "for i in range(len(mb)):\n",
    "    plt.text( mb[i], 0.02+ np.round( HNb[i],2), \\\n",
    "            str(np.round( HNb[i]*100,2))+'%', ha='center',fontsize=15  )"
   ]
  },
  {
   "cell_type": "code",
   "execution_count": 15,
   "id": "8c6b1456",
   "metadata": {},
   "outputs": [
    {
     "data": {
      "text/plain": [
       "array([691, 284,  25])"
      ]
     },
     "execution_count": 15,
     "metadata": {},
     "output_type": "execute_result"
    }
   ],
   "source": [
    "# bINOMIAL \n",
    "n,p = 2,1/6\n",
    "binomial = binom.rvs(n,p,size=N)\n",
    "xbins = np.linspace(0,3,4)\n",
    "xbins\n",
    "Hb, HNb, mb, w = GetHisto(binomial,xbins)\n",
    "Hb"
   ]
  },
  {
   "cell_type": "code",
   "execution_count": 16,
   "id": "1308161f",
   "metadata": {},
   "outputs": [
    {
     "data": {
      "image/png": "[encoded data removed]",
      "text/plain": [
       "<Figure size 432x288 with 1 Axes>"
      ]
     },
     "metadata": {
      "needs_background": "light"
     },
     "output_type": "display_data"
    }
   ],
   "source": [
    "plt.bar( mb, HNb, width=w, ec='k'  )\n",
    "plt.ylim(0,1)\n",
    "\n",
    "for i in range(len(mb)):\n",
    "    plt.text( mb[i], 0.02+ np.round( HNb[i],2), \\\n",
    "            str(np.round( HNb[i]*100,2))+'%', ha='center',fontsize=15  )"
   ]
  },
  {
   "cell_type": "code",
   "execution_count": 24,
   "id": "ec382726",
   "metadata": {},
   "outputs": [
    {
     "data": {
      "text/plain": [
       "array([354, 369, 190,  68,  15,   3,   1])"
      ]
     },
     "execution_count": 24,
     "metadata": {},
     "output_type": "execute_result"
    }
   ],
   "source": [
    "mu = 1\n",
    "Pois = poisson.rvs( mu, size=N )\n",
    "xbins = np.linspace(0,7,8)\n",
    "Hb, HNb, mb, w = GetHisto(Pois,xbins)\n",
    "Hb"
   ]
  },
  {
   "cell_type": "code",
   "execution_count": 25,
   "id": "89f83ca0",
   "metadata": {},
   "outputs": [
    {
     "data": {
      "image/png": "[encoded data removed]",
      "text/plain": [
       "<Figure size 432x288 with 1 Axes>"
      ]
     },
     "metadata": {
      "needs_background": "light"
     },
     "output_type": "display_data"
    }
   ],
   "source": [
    "plt.bar( mb, HNb, width=w, ec='k'  )\n",
    "plt.ylim(0,1)\n",
    "\n",
    "for i in range(len(mb)):\n",
    "    plt.text( mb[i], 0.02+ np.round( HNb[i],2), \\\n",
    "            str(np.round( HNb[i]*100,2))+'%', ha='center',fontsize=15  )"
   ]
  },
  {
   "cell_type": "code",
   "execution_count": 26,
   "id": "592e7901",
   "metadata": {},
   "outputs": [
    {
     "data": {
      "text/plain": [
       "1.034"
      ]
     },
     "execution_count": 26,
     "metadata": {},
     "output_type": "execute_result"
    }
   ],
   "source": [
    "np.sum( HNb*xbins[:-1] )"
   ]
  },
  {
   "cell_type": "code",
   "execution_count": null,
   "id": "396827e6",
   "metadata": {},
   "outputs": [],
   "source": []
  }
 ],
 "metadata": {
  "kernelspec": {
   "display_name": "Python 3 (ipykernel)",
   "language": "python",
   "name": "python3"
  },
  "language_info": {
   "codemirror_mode": {
    "name": "ipython",
    "version": 3
   },
   "file_extension": ".py",
   "mimetype": "text/x-python",
   "name": "python",
   "nbconvert_exporter": "python",
   "pygments_lexer": "ipython3",
   "version": "3.9.12"
  }
 },
 "nbformat": 4,
 "nbformat_minor": 5
}
