{
 "cells": [
  {
   "cell_type": "code",
   "execution_count": 1,
   "id": "1ee9c3d0",
   "metadata": {},
   "outputs": [],
   "source": [
    "import numpy as np\n",
    "import matplotlib.pyplot as plt\n",
    "from matplotlib import rc\n",
    "import pandas as pd\n",
    "import sympy as sym\n",
    "import os.path as path\n",
    "import wget"
   ]
  },
  {
   "cell_type": "code",
   "execution_count": 2,
   "id": "8267616d",
   "metadata": {},
   "outputs": [
    {
     "name": "stdout",
     "output_type": "stream",
     "text": [
      "--File found---\n"
     ]
    }
   ],
   "source": [
    "file = 'Data/InterpolacionLagrange.csv'\n",
    "url = 'https://raw.githubusercontent.com/asegura4488/Database/main/MetodosComputacionalesReforma/Interpolacion.csv'\n",
    "if not path.exists(file):\n",
    "    Path_ = wget.download(url,file)\n",
    "else:\n",
    "    print('--File found---')\n",
    "    Path_ = file"
   ]
  },
  {
   "cell_type": "code",
   "execution_count": 3,
   "id": "a25d4777",
   "metadata": {},
   "outputs": [],
   "source": [
    "Data = pd.read_csv(Path_,sep=',')"
   ]
  },
  {
   "cell_type": "code",
   "execution_count": 4,
   "id": "b2be40b5",
   "metadata": {},
   "outputs": [
    {
     "data": {
      "text/html": [
       "<div>\n",
       "<style scoped>\n",
       "    .dataframe tbody tr th:only-of-type {\n",
       "        vertical-align: middle;\n",
       "    }\n",
       "\n",
       "    .dataframe tbody tr th {\n",
       "        vertical-align: top;\n",
       "    }\n",
       "\n",
       "    .dataframe thead th {\n",
       "        text-align: right;\n",
       "    }\n",
       "</style>\n",
       "<table border=\"1\" class=\"dataframe\">\n",
       "  <thead>\n",
       "    <tr style=\"text-align: right;\">\n",
       "      <th></th>\n",
       "      <th>X</th>\n",
       "      <th>Y</th>\n",
       "    </tr>\n",
       "  </thead>\n",
       "  <tbody>\n",
       "    <tr>\n",
       "      <th>0</th>\n",
       "      <td>5</td>\n",
       "      <td>10</td>\n",
       "    </tr>\n",
       "    <tr>\n",
       "      <th>1</th>\n",
       "      <td>10</td>\n",
       "      <td>15</td>\n",
       "    </tr>\n",
       "    <tr>\n",
       "      <th>2</th>\n",
       "      <td>15</td>\n",
       "      <td>25</td>\n",
       "    </tr>\n",
       "  </tbody>\n",
       "</table>\n",
       "</div>"
      ],
      "text/plain": [
       "    X   Y\n",
       "0   5  10\n",
       "1  10  15\n",
       "2  15  25"
      ]
     },
     "execution_count": 4,
     "metadata": {},
     "output_type": "execute_result"
    }
   ],
   "source": [
    "Data"
   ]
  },
  {
   "cell_type": "code",
   "execution_count": 24,
   "id": "6612cd1a",
   "metadata": {},
   "outputs": [],
   "source": [
    "X = np.array([5,10,15,55,60])\n",
    "Y = np.array([10,15,25,30,25])"
   ]
  },
  {
   "cell_type": "code",
   "execution_count": 25,
   "id": "5306b5e9",
   "metadata": {},
   "outputs": [],
   "source": [
    "#X = np.float64(Data['X'])\n",
    "#Y = np.float64(Data['Y'])"
   ]
  },
  {
   "cell_type": "code",
   "execution_count": 26,
   "id": "3e831a9c",
   "metadata": {},
   "outputs": [],
   "source": [
    "def Lagrange(x,xi,j):\n",
    "    \n",
    "    prod = 1.0\n",
    "    n = len(xi)\n",
    "    \n",
    "    for i in range(n):\n",
    "        if i != j:\n",
    "            prod *= (x - xi[i])/(xi[j]-xi[i])\n",
    "            \n",
    "    return prod"
   ]
  },
  {
   "cell_type": "code",
   "execution_count": 27,
   "id": "032cab51",
   "metadata": {},
   "outputs": [],
   "source": [
    "def Poly(x,xi,yi):\n",
    "    \n",
    "    Sum = 0.\n",
    "    n = len(xi)\n",
    "        \n",
    "    for j in range(n):\n",
    "        Sum += yi[j]*Lagrange(x,xi,j)\n",
    "        \n",
    "    return Sum"
   ]
  },
  {
   "cell_type": "code",
   "execution_count": 30,
   "id": "f6b775b1",
   "metadata": {},
   "outputs": [],
   "source": [
    "x = np.linspace(5,60,100)\n",
    "y = Poly(x,X,Y)"
   ]
  },
  {
   "cell_type": "code",
   "execution_count": 31,
   "id": "47732b57",
   "metadata": {},
   "outputs": [
    {
     "data": {
      "text/plain": [
       "[<matplotlib.lines.Line2D at 0x7f56b28548b0>]"
      ]
     },
     "execution_count": 31,
     "metadata": {},
     "output_type": "execute_result"
    },
    {
     "data": {
      "image/png": "[encoded data removed]",
      "text/plain": [
       "<Figure size 432x288 with 1 Axes>"
      ]
     },
     "metadata": {
      "needs_background": "light"
     },
     "output_type": "display_data"
    }
   ],
   "source": [
    "plt.scatter(X,Y,color='r')\n",
    "plt.plot(x,y,color='k')"
   ]
  },
  {
   "cell_type": "code",
   "execution_count": 32,
   "id": "21835009",
   "metadata": {},
   "outputs": [],
   "source": [
    "y1 = np.interp(x,X,Y)"
   ]
  },
  {
   "cell_type": "code",
   "execution_count": 33,
   "id": "a976f649",
   "metadata": {},
   "outputs": [
    {
     "data": {
      "text/plain": [
       "[<matplotlib.lines.Line2D at 0x7f56b283a7f0>]"
      ]
     },
     "execution_count": 33,
     "metadata": {},
     "output_type": "execute_result"
    },
    {
     "data": {
      "image/png": "[encoded data removed]",
      "text/plain": [
       "<Figure size 432x288 with 1 Axes>"
      ]
     },
     "metadata": {
      "needs_background": "light"
     },
     "output_type": "display_data"
    }
   ],
   "source": [
    "plt.scatter(X,Y,color='r')\n",
    "plt.plot(x,y1,color='k')"
   ]
  },
  {
   "cell_type": "code",
   "execution_count": 34,
   "id": "cc0fdf50",
   "metadata": {},
   "outputs": [],
   "source": [
    "x = sym.Symbol('x')\n",
    "f = Poly(x,X,Y)"
   ]
  },
  {
   "cell_type": "code",
   "execution_count": 35,
   "id": "ab0ede75",
   "metadata": {},
   "outputs": [
    {
     "data": {
      "text/latex": [
       "$\\displaystyle 10 \\cdot \\left(\\frac{12}{11} - \\frac{x}{55}\\right) \\left(\\frac{11}{10} - \\frac{x}{50}\\right) \\left(\\frac{3}{2} - \\frac{x}{10}\\right) \\left(2.0 - 0.2 x\\right) + 15 \\cdot \\left(\\frac{6}{5} - \\frac{x}{50}\\right) \\left(\\frac{11}{9} - \\frac{x}{45}\\right) \\left(3 - \\frac{x}{5}\\right) \\left(0.2 x - 1.0\\right) + 25 \\cdot \\left(\\frac{4}{3} - \\frac{x}{45}\\right) \\left(\\frac{11}{8} - \\frac{x}{40}\\right) \\left(0.1 x - 0.5\\right) \\left(\\frac{x}{5} - 2\\right) + 30 \\cdot \\left(12 - \\frac{x}{5}\\right) \\left(0.02 x - 0.1\\right) \\left(\\frac{x}{45} - \\frac{2}{9}\\right) \\left(\\frac{x}{40} - \\frac{3}{8}\\right) + 25 \\cdot \\left(0.0181818181818182 x - 0.0909090909090909\\right) \\left(\\frac{x}{50} - \\frac{1}{5}\\right) \\left(\\frac{x}{45} - \\frac{1}{3}\\right) \\left(\\frac{x}{5} - 11\\right)$"
      ],
      "text/plain": [
       "10*(12/11 - x/55)*(11/10 - x/50)*(3/2 - x/10)*(2.0 - 0.2*x) + 15*(6/5 - x/50)*(11/9 - x/45)*(3 - x/5)*(0.2*x - 1.0) + 25*(4/3 - x/45)*(11/8 - x/40)*(0.1*x - 0.5)*(x/5 - 2) + 30*(12 - x/5)*(0.02*x - 0.1)*(x/45 - 2/9)*(x/40 - 3/8) + 25*(0.0181818181818182*x - 0.0909090909090909)*(x/50 - 1/5)*(x/45 - 1/3)*(x/5 - 11)"
      ]
     },
     "execution_count": 35,
     "metadata": {},
     "output_type": "execute_result"
    }
   ],
   "source": [
    "f"
   ]
  },
  {
   "cell_type": "code",
   "execution_count": 36,
   "id": "b425df76",
   "metadata": {},
   "outputs": [
    {
     "data": {
      "text/latex": [
       "$\\displaystyle 5.75757575757577 \\cdot 10^{-5} x^{4} - 0.00772727272727273 x^{3} + 0.295833333333334 x^{2} - 2.19318181818182 x + 14.5$"
      ],
      "text/plain": [
       "5.75757575757577e-5*x**4 - 0.00772727272727273*x**3 + 0.295833333333334*x**2 - 2.19318181818182*x + 14.5"
      ]
     },
     "execution_count": 36,
     "metadata": {},
     "output_type": "execute_result"
    }
   ],
   "source": [
    "f = sym.expand(f)\n",
    "f"
   ]
  },
  {
   "cell_type": "code",
   "execution_count": null,
   "id": "24873a3c",
   "metadata": {},
   "outputs": [],
   "source": []
  }
 ],
 "metadata": {
  "kernelspec": {
   "display_name": "Python 3 (ipykernel)",
   "language": "python",
   "name": "python3"
  },
  "language_info": {
   "codemirror_mode": {
    "name": "ipython",
    "version": 3
   },
   "file_extension": ".py",
   "mimetype": "text/x-python",
   "name": "python",
   "nbconvert_exporter": "python",
   "pygments_lexer": "ipython3",
   "version": "3.9.12"
  }
 },
 "nbformat": 4,
 "nbformat_minor": 5
}
