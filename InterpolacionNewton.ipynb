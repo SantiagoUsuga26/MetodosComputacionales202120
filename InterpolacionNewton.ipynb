{
 "cells": [
  {
   "cell_type": "code",
   "execution_count": 1,
   "id": "d078b14d",
   "metadata": {},
   "outputs": [],
   "source": [
    "import numpy as np\n",
    "import matplotlib.pyplot as plt\n",
    "from matplotlib import rc\n",
    "import pandas as pd\n",
    "import sympy as sym\n",
    "import os.path as path\n",
    "import wget"
   ]
  },
  {
   "cell_type": "code",
   "execution_count": 2,
   "id": "d2aa2c12",
   "metadata": {},
   "outputs": [
    {
     "name": "stdout",
     "output_type": "stream",
     "text": [
      "\r",
      "  0% [                                                                                    ]  0 / 45\r",
      "100% [....................................................................................] 45 / 45"
     ]
    }
   ],
   "source": [
    "file='Data/InterpolacionNewton.csv'\n",
    "url='https://raw.githubusercontent.com/asegura4488/Database/main/MetodosComputacionalesReforma/InterpolacionNewton.csv'\n",
    "if not path.exists(file):\n",
    "    Path_ = wget.download(url,file)\n",
    "else:\n",
    "    Path_ = file"
   ]
  },
  {
   "cell_type": "code",
   "execution_count": 4,
   "id": "741d1929",
   "metadata": {},
   "outputs": [],
   "source": [
    "Data = pd.read_csv(Path_,sep=',')"
   ]
  },
  {
   "cell_type": "code",
   "execution_count": 6,
   "id": "c775360e",
   "metadata": {},
   "outputs": [],
   "source": [
    "#Data\n",
    "X = np.float64(Data['X'])\n",
    "Y = np.float64(Data['Y'])"
   ]
  },
  {
   "cell_type": "code",
   "execution_count": 11,
   "id": "1b89a012",
   "metadata": {},
   "outputs": [
    {
     "data": {
      "text/plain": [
       "array([[ 39.,   0.,   0.,   0.,   0.,   0.,   0.],\n",
       "       [ 19., -20.,   0.,   0.,   0.,   0.,   0.],\n",
       "       [-21., -40., -20.,   0.,   0.,   0.,   0.],\n",
       "       [-57., -36.,   4.,  24.,   0.,   0.,   0.],\n",
       "       [-65.,  -8.,  28.,  24.,   0.,   0.,   0.],\n",
       "       [-21.,  44.,  52.,  24.,   0.,   0.,   0.],\n",
       "       [ 99., 120.,  76.,  24.,   0.,   0.,   0.]])"
      ]
     },
     "execution_count": 11,
     "metadata": {},
     "output_type": "execute_result"
    }
   ],
   "source": [
    "Diff = np.zeros((len(X),len(Y)))\n",
    "Diff[:,0] = Y\n",
    "\n",
    "for i in range(1,len(X)):\n",
    "    for j in range(i,len(Y)):\n",
    "        Diff[j,i] = Diff[j,i-1]-Diff[j-1,i-1]\n",
    "\n",
    "Diff"
   ]
  },
  {
   "cell_type": "code",
   "execution_count": 29,
   "id": "55196d57",
   "metadata": {},
   "outputs": [],
   "source": [
    "def NewtonGregory(X,Y,x):\n",
    "    \n",
    "    Sum_ = Y[0]\n",
    "    \n",
    "    Diff = np.zeros((len(X),len(Y)))\n",
    "    Diff[:,0] = Y\n",
    "\n",
    "    h = X[1] - X[0]\n",
    "            \n",
    "    poly = 1.0\n",
    "    \n",
    "    for i in range(1,len(X)):\n",
    "        \n",
    "        poly *= ( x - X[i-1] )\n",
    "        \n",
    "        for j in range(i, len(X)):\n",
    "            \n",
    "            Diff[j,i] = Diff[j,i-1]-Diff[j-1,i-1]\n",
    "            \n",
    "        Sum_ += poly*(Diff[i,i])/(np.math.factorial(i)*h**(i))\n",
    "    \n",
    "    return Sum_,np.round(Diff,2)"
   ]
  },
  {
   "cell_type": "code",
   "execution_count": 30,
   "id": "71018f0e",
   "metadata": {},
   "outputs": [],
   "source": [
    "x = np.linspace(np.min(X),np.max(X),100)\n",
    "y,_ = NewtonGregory(X,Y,x)"
   ]
  },
  {
   "cell_type": "code",
   "execution_count": 27,
   "id": "c0fc1a29",
   "metadata": {},
   "outputs": [],
   "source": [
    "#M"
   ]
  },
  {
   "cell_type": "code",
   "execution_count": 28,
   "id": "2da1cad7",
   "metadata": {},
   "outputs": [
    {
     "data": {
      "text/plain": [
       "[<matplotlib.lines.Line2D at 0x7ff708e475e0>]"
      ]
     },
     "execution_count": 28,
     "metadata": {},
     "output_type": "execute_result"
    },
    {
     "data": {
      "image/png": "[encoded data removed]",
      "text/plain": [
       "<Figure size 432x288 with 1 Axes>"
      ]
     },
     "metadata": {
      "needs_background": "light"
     },
     "output_type": "display_data"
    }
   ],
   "source": [
    "plt.scatter(X,Y,color='r')\n",
    "plt.plot(x,y)"
   ]
  },
  {
   "cell_type": "code",
   "execution_count": 31,
   "id": "faa2bc9c",
   "metadata": {},
   "outputs": [],
   "source": [
    "x = sym.Symbol('x',Real='True')\n",
    "y,_ = NewtonGregory(X,Y,x)"
   ]
  },
  {
   "cell_type": "code",
   "execution_count": 32,
   "id": "0aa1081c",
   "metadata": {},
   "outputs": [
    {
     "data": {
      "text/latex": [
       "$\\displaystyle - 10.0 x + 0.5 \\left(x - 1.0\\right) \\left(x + 1.0\\right) \\left(1.0 x + 3.0\\right) - 2.5 \\left(x + 1.0\\right) \\left(1.0 x + 3.0\\right) + 9.0$"
      ],
      "text/plain": [
       "-10.0*x + 0.5*(x - 1.0)*(x + 1.0)*(1.0*x + 3.0) - 2.5*(x + 1.0)*(1.0*x + 3.0) + 9.0"
      ]
     },
     "execution_count": 32,
     "metadata": {},
     "output_type": "execute_result"
    }
   ],
   "source": [
    "y"
   ]
  },
  {
   "cell_type": "code",
   "execution_count": 33,
   "id": "6677236c",
   "metadata": {},
   "outputs": [],
   "source": [
    "y = y.simplify()"
   ]
  },
  {
   "cell_type": "code",
   "execution_count": 34,
   "id": "52d95ade",
   "metadata": {},
   "outputs": [
    {
     "data": {
      "text/latex": [
       "$\\displaystyle x \\left(0.5 x^{2} - 1.0 x - 20.5\\right)$"
      ],
      "text/plain": [
       "x*(0.5*x**2 - 1.0*x - 20.5)"
      ]
     },
     "execution_count": 34,
     "metadata": {},
     "output_type": "execute_result"
    }
   ],
   "source": [
    "y"
   ]
  },
  {
   "cell_type": "code",
   "execution_count": null,
   "id": "67a1afd5",
   "metadata": {},
   "outputs": [],
   "source": []
  }
 ],
 "metadata": {
  "kernelspec": {
   "display_name": "Python 3 (ipykernel)",
   "language": "python",
   "name": "python3"
  },
  "language_info": {
   "codemirror_mode": {
    "name": "ipython",
    "version": 3
   },
   "file_extension": ".py",
   "mimetype": "text/x-python",
   "name": "python",
   "nbconvert_exporter": "python",
   "pygments_lexer": "ipython3",
   "version": "3.9.12"
  }
 },
 "nbformat": 4,
 "nbformat_minor": 5
}
