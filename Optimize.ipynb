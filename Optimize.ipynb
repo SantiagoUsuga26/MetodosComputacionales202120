{
 "cells": [
  {
   "cell_type": "code",
   "execution_count": 1,
   "id": "2fb77806",
   "metadata": {},
   "outputs": [],
   "source": [
    "import scipy.optimize as spo\n",
    "import numpy as np\n",
    "import matplotlib.pyplot as plt"
   ]
  },
  {
   "cell_type": "code",
   "execution_count": 2,
   "id": "982594de",
   "metadata": {},
   "outputs": [],
   "source": [
    "def f(x):\n",
    "    return x**2 - 12*x + 20"
   ]
  },
  {
   "cell_type": "code",
   "execution_count": 3,
   "id": "fd1fe265",
   "metadata": {},
   "outputs": [],
   "source": [
    "x = np.linspace(0,10,100)\n",
    "y = f(x)"
   ]
  },
  {
   "cell_type": "code",
   "execution_count": 4,
   "id": "d4c044c5",
   "metadata": {},
   "outputs": [
    {
     "data": {
      "text/plain": [
       "[<matplotlib.lines.Line2D at 0x7f00bffe85e0>]"
      ]
     },
     "execution_count": 4,
     "metadata": {},
     "output_type": "execute_result"
    },
    {
     "data": {
      "image/png": "[encoded data removed]",
      "text/plain": [
       "<Figure size 432x288 with 1 Axes>"
      ]
     },
     "metadata": {
      "needs_background": "light"
     },
     "output_type": "display_data"
    }
   ],
   "source": [
    "plt.plot(x,y)"
   ]
  },
  {
   "cell_type": "code",
   "execution_count": 5,
   "id": "95db68ba",
   "metadata": {},
   "outputs": [
    {
     "name": "stdout",
     "output_type": "stream",
     "text": [
      "Optimization terminated successfully.\n",
      "         Current function value: -16.000000\n",
      "         Iterations: 20\n",
      "         Function evaluations: 40\n"
     ]
    }
   ],
   "source": [
    "x0 = 2\n",
    "result = spo.minimize( f, x0, options={\"disp\":True}, method=\"Nelder-Mead\" )"
   ]
  },
  {
   "cell_type": "code",
   "execution_count": 6,
   "id": "34031cc9",
   "metadata": {},
   "outputs": [
    {
     "data": {
      "text/plain": [
       "array([6.])"
      ]
     },
     "execution_count": 6,
     "metadata": {},
     "output_type": "execute_result"
    }
   ],
   "source": [
    "result.x"
   ]
  },
  {
   "cell_type": "code",
   "execution_count": 8,
   "id": "3b65ea5a",
   "metadata": {},
   "outputs": [
    {
     "data": {
      "text/plain": [
       "-16.000000000000007"
      ]
     },
     "execution_count": 8,
     "metadata": {},
     "output_type": "execute_result"
    }
   ],
   "source": [
    "result.fun"
   ]
  },
  {
   "cell_type": "code",
   "execution_count": 9,
   "id": "eef1ca7a",
   "metadata": {},
   "outputs": [],
   "source": [
    "def g(p):\n",
    "    return -p[0]*p[1]"
   ]
  },
  {
   "cell_type": "code",
   "execution_count": 11,
   "id": "d7f6939f",
   "metadata": {},
   "outputs": [
    {
     "name": "stdout",
     "output_type": "stream",
     "text": [
      "Optimization terminated successfully    (Exit mode 0)\n",
      "            Current function value: -1249.9999999999952\n",
      "            Iterations: 4\n",
      "            Function evaluations: 12\n",
      "            Gradient evaluations: 4\n"
     ]
    }
   ],
   "source": [
    "bounds = ( (1,100),(1,100) )\n",
    "constraints = ( { 'type':'eq', 'fun': lambda p: 2*p[0] + p[1] -100 } )\n",
    "p0=[10,10]\n",
    "result = spo.minimize( g, p0, options={\"disp\":True}, constraints=constraints, bounds=bounds )"
   ]
  },
  {
   "cell_type": "code",
   "execution_count": 12,
   "id": "be4ccd49",
   "metadata": {},
   "outputs": [
    {
     "data": {
      "text/plain": [
       "array([24.99999847, 50.00000305])"
      ]
     },
     "execution_count": 12,
     "metadata": {},
     "output_type": "execute_result"
    }
   ],
   "source": [
    "result.x"
   ]
  },
  {
   "cell_type": "code",
   "execution_count": null,
   "id": "a567450f",
   "metadata": {},
   "outputs": [],
   "source": []
  }
 ],
 "metadata": {
  "kernelspec": {
   "display_name": "Python 3 (ipykernel)",
   "language": "python",
   "name": "python3"
  },
  "language_info": {
   "codemirror_mode": {
    "name": "ipython",
    "version": 3
   },
   "file_extension": ".py",
   "mimetype": "text/x-python",
   "name": "python",
   "nbconvert_exporter": "python",
   "pygments_lexer": "ipython3",
   "version": "3.9.12"
  }
 },
 "nbformat": 4,
 "nbformat_minor": 5
}
