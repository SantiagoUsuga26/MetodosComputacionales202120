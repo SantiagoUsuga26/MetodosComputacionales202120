{
 "cells": [
  {
   "cell_type": "code",
   "execution_count": 2,
   "id": "55798195",
   "metadata": {},
   "outputs": [],
   "source": [
    "import numpy as np\n",
    "import matplotlib.pyplot as plt\n",
    "from scipy.stats import norm \n",
    "from scipy.stats import t\n",
    "from scipy.stats import chi2\n",
    "from scipy import integrate"
   ]
  },
  {
   "cell_type": "code",
   "execution_count": 3,
   "id": "37451b2e",
   "metadata": {},
   "outputs": [],
   "source": [
    "def GetHisto(Data,bines):\n",
    "    \n",
    "    h,bins = np.histogram(Data,bins=bines)\n",
    "    w = np.diff(bins)\n",
    "    m = bins[:-1] + 0.5*w[0]\n",
    "    \n",
    "    hnorm = h / (np.sum(h)*w)\n",
    "    \n",
    "    return h,hnorm,m,w"
   ]
  },
  {
   "cell_type": "code",
   "execution_count": 31,
   "id": "62eb2977",
   "metadata": {},
   "outputs": [],
   "source": [
    "mu, sigma = 0,3\n",
    "N = 1000\n",
    "normal = norm.rvs(loc=mu,scale=sigma,size=N)"
   ]
  },
  {
   "cell_type": "code",
   "execution_count": 32,
   "id": "77e7389f",
   "metadata": {},
   "outputs": [
    {
     "data": {
      "text/plain": [
       "array([ 1,  1,  2,  2,  0,  0,  0,  2,  2,  4,  0,  1,  2,  3,  6,  8,  4,\n",
       "        7,  3,  8, 11,  5, 19, 10,  8, 16, 15, 13, 14, 18, 21,  9, 23, 26,\n",
       "       23, 25, 21, 28, 34, 27, 31, 26, 27, 26, 29, 16, 22, 27, 21, 24, 29,\n",
       "       21, 23, 22, 25, 21, 13, 14, 14, 15,  7, 19, 12, 10, 11, 10,  7,  7,\n",
       "        8,  4,  4,  1,  3,  8,  3,  2,  3,  1,  0,  0,  1,  1,  2,  1,  1,\n",
       "        1,  2,  0,  2,  0,  0,  0,  0,  0,  0,  0,  0,  0,  1])"
      ]
     },
     "execution_count": 32,
     "metadata": {},
     "output_type": "execute_result"
    }
   ],
   "source": [
    "xbins = np.linspace(np.min(normal),np.max(normal),100)\n",
    "Hb, HNb, mb, w = GetHisto(normal,xbins)\n",
    "Hb"
   ]
  },
  {
   "cell_type": "code",
   "execution_count": 33,
   "id": "13ad2629",
   "metadata": {},
   "outputs": [
    {
     "data": {
      "text/plain": [
       "(0.0, 1.0)"
      ]
     },
     "execution_count": 33,
     "metadata": {},
     "output_type": "execute_result"
    },
    {
     "data": {
      "image/png": "[encoded data removed]",
      "text/plain": [
       "<Figure size 432x288 with 1 Axes>"
      ]
     },
     "metadata": {
      "needs_background": "light"
     },
     "output_type": "display_data"
    }
   ],
   "source": [
    "plt.bar( mb, HNb, width=w, ec='k'  )\n",
    "plt.plot(xbins, norm.pdf(xbins,loc=mu,scale=sigma),color='r')\n",
    "plt.ylim(0,1)\n",
    "\n",
    "#for i in range(len(mb)):\n",
    "#    plt.text( mb[i], 0.02+ np.round( HNb[i],2), \\\n",
    "#            str(np.round( HNb[i]*100,2))+'%', ha='center',fontsize=15  )"
   ]
  },
  {
   "cell_type": "code",
   "execution_count": 34,
   "id": "8f7c8f17",
   "metadata": {},
   "outputs": [
    {
     "data": {
      "text/plain": [
       "-1.3426204150858376"
      ]
     },
     "execution_count": 34,
     "metadata": {},
     "output_type": "execute_result"
    }
   ],
   "source": [
    "np.sum( HNb*xbins[:-1] )"
   ]
  },
  {
   "cell_type": "code",
   "execution_count": 35,
   "id": "661998ee",
   "metadata": {},
   "outputs": [],
   "source": [
    "def normalpdf(x):\n",
    "    return x**2*norm.pdf(x,loc=mu,scale=sigma)"
   ]
  },
  {
   "cell_type": "code",
   "execution_count": 30,
   "id": "f00e5a75",
   "metadata": {},
   "outputs": [
    {
     "data": {
      "text/plain": [
       "1.000000000000001"
      ]
     },
     "execution_count": 30,
     "metadata": {},
     "output_type": "execute_result"
    }
   ],
   "source": [
    "I,_ = integrate.quad(normalpdf, -np.inf, np.inf)\n",
    "I"
   ]
  },
  {
   "cell_type": "code",
   "execution_count": null,
   "id": "d5ed20e3",
   "metadata": {},
   "outputs": [],
   "source": []
  }
 ],
 "metadata": {
  "kernelspec": {
   "display_name": "Python 3 (ipykernel)",
   "language": "python",
   "name": "python3"
  },
  "language_info": {
   "codemirror_mode": {
    "name": "ipython",
    "version": 3
   },
   "file_extension": ".py",
   "mimetype": "text/x-python",
   "name": "python",
   "nbconvert_exporter": "python",
   "pygments_lexer": "ipython3",
   "version": "3.9.12"
  }
 },
 "nbformat": 4,
 "nbformat_minor": 5
}
