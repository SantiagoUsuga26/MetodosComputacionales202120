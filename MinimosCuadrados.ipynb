{
 "cells": [
  {
   "cell_type": "code",
   "execution_count": 1,
   "id": "9c6b50cd",
   "metadata": {},
   "outputs": [
    {
     "data": {
      "text/html": [
       "<style>.container { width:100% !important; }</style>"
      ],
      "text/plain": [
       "<IPython.core.display.HTML object>"
      ]
     },
     "metadata": {},
     "output_type": "display_data"
    }
   ],
   "source": [
    "from IPython.display import display, HTML\n",
    "display(HTML(\"<style>.container { width:100% !important; }</style>\"))\n",
    "#%matplotlib notebook\n",
    "import numpy as np\n",
    "import matplotlib.pyplot as plt\n",
    "import sympy as sym\n",
    "from scipy.stats import chi2\n",
    "import os.path as path\n",
    "import wget"
   ]
  },
  {
   "cell_type": "code",
   "execution_count": 2,
   "id": "0b30e91a",
   "metadata": {},
   "outputs": [
    {
     "name": "stdout",
     "output_type": "stream",
     "text": [
      "\r",
      "  0% [                                                                                  ]   0 / 521\r",
      "100% [..................................................................................] 521 / 521File loaded\n"
     ]
    }
   ],
   "source": [
    "!rm Data/Minimos.dat\n",
    "file = 'Data/Minimos.dat'\n",
    "#url = 'https://raw.githubusercontent.com/asegura4488/Database/main/MetodosComputacionalesReforma/MinimosLineal.txt'\n",
    "url = 'https://raw.githubusercontent.com/asegura4488/Database/main/MetodosComputacionalesReforma/MinimosCuadratico.txt'\n",
    "if not path.exists(file):\n",
    "    Path_ = wget.download(url,file)\n",
    "    print('File loaded')\n",
    "else:\n",
    "    Path_ = file"
   ]
  },
  {
   "cell_type": "code",
   "execution_count": 3,
   "id": "2418572b",
   "metadata": {},
   "outputs": [
    {
     "data": {
      "text/plain": [
       "array([1.01766481, 2.00269139, 3.80173021, 1.89309735, 4.23147282,\n",
       "       1.93121226, 4.48141887, 3.44881119, 4.69898856, 1.25696673,\n",
       "       4.4591297 , 3.46909543, 3.94904254, 2.04406408, 4.72863657,\n",
       "       1.27187059, 4.55350031, 2.16521005, 2.79816133, 2.73271366])"
      ]
     },
     "execution_count": 3,
     "metadata": {},
     "output_type": "execute_result"
    }
   ],
   "source": [
    "data = np.loadtxt(Path_)\n",
    "x = data[:,0]\n",
    "y = data[:,1]\n",
    "N = len(x)\n",
    "sigma = np.array([ 2. for i in range(N) ])\n",
    "sigma = np.random.uniform(1,5,size=N)\n",
    "sigma"
   ]
  },
  {
   "cell_type": "code",
   "execution_count": 4,
   "id": "2ebd21d5",
   "metadata": {},
   "outputs": [
    {
     "data": {
      "text/plain": [
       "<ErrorbarContainer object of 3 artists>"
      ]
     },
     "execution_count": 4,
     "metadata": {},
     "output_type": "execute_result"
    },
    {
     "data": {
      "image/png": "[encoded data removed]",
      "text/plain": [
       "<Figure size 432x288 with 1 Axes>"
      ]
     },
     "metadata": {
      "needs_background": "light"
     },
     "output_type": "display_data"
    }
   ],
   "source": [
    "plt.errorbar(x,y,yerr=sigma,fmt='o')"
   ]
  },
  {
   "cell_type": "code",
   "execution_count": 5,
   "id": "906bd441",
   "metadata": {},
   "outputs": [],
   "source": [
    "def GetFit(x,y,n):\n",
    "    \n",
    "    DataSize = x.shape[0]\n",
    "    \n",
    "    b = y\n",
    "    \n",
    "    A = np.ones((DataSize,n+1))\n",
    "    \n",
    "    for i in range(1,n+1):\n",
    "        A[:,i] = x**i\n",
    "    \n",
    "    AT = np.dot(A.T,A)\n",
    "    bT = A.T @ b\n",
    "\n",
    "    xsol = np.linalg.solve(AT,bT)\n",
    "    \n",
    "    return xsol"
   ]
  },
  {
   "cell_type": "code",
   "execution_count": 6,
   "id": "4db40337",
   "metadata": {},
   "outputs": [
    {
     "data": {
      "text/plain": [
       "array([1.22132054, 6.09075205, 2.9565874 ])"
      ]
     },
     "execution_count": 6,
     "metadata": {},
     "output_type": "execute_result"
    }
   ],
   "source": [
    "param = GetFit(x,y,2)\n",
    "param"
   ]
  },
  {
   "cell_type": "code",
   "execution_count": 7,
   "id": "0cc14eae",
   "metadata": {},
   "outputs": [],
   "source": [
    "def GetModel(x,p):\n",
    "    \n",
    "    y = 0\n",
    "    for n in range(len(p)):\n",
    "        y += p[n]*x**n\n",
    "        \n",
    "    return y"
   ]
  },
  {
   "cell_type": "code",
   "execution_count": 8,
   "id": "69f7ab22",
   "metadata": {},
   "outputs": [
    {
     "data": {
      "text/latex": [
       "$\\displaystyle 2.95658740177385 x^{2} + 6.0907520463624 x + 1.2213205361703$"
      ],
      "text/plain": [
       "2.95658740177385*x**2 + 6.0907520463624*x + 1.2213205361703"
      ]
     },
     "execution_count": 8,
     "metadata": {},
     "output_type": "execute_result"
    }
   ],
   "source": [
    "X = sym.Symbol('x',real=True)\n",
    "GetModel(X,param)"
   ]
  },
  {
   "cell_type": "code",
   "execution_count": 9,
   "id": "9fb3d591",
   "metadata": {},
   "outputs": [
    {
     "data": {
      "text/plain": [
       "[<matplotlib.lines.Line2D at 0x7fbfe4838f10>]"
      ]
     },
     "execution_count": 9,
     "metadata": {},
     "output_type": "execute_result"
    },
    {
     "data": {
      "image/png": "[encoded data removed]",
      "text/plain": [
       "<Figure size 360x360 with 1 Axes>"
      ]
     },
     "metadata": {
      "needs_background": "light"
     },
     "output_type": "display_data"
    }
   ],
   "source": [
    "t = np.linspace(np.min(x),np.max(x),50)\n",
    "\n",
    "fig = plt.figure(figsize=(5,5))\n",
    "ax = fig.add_subplot(111)\n",
    "ax.errorbar(x,y,yerr=sigma,fmt='o',color='r')\n",
    "ax.plot(t,GetModel(t,param))"
   ]
  },
  {
   "cell_type": "code",
   "execution_count": 10,
   "id": "53234e99",
   "metadata": {},
   "outputs": [],
   "source": [
    "def GetChi2(x,y,sigma,p,reducido=True):\n",
    "    \n",
    "    df  = (len(x) -  len(p) - 1)\n",
    "    \n",
    "    if not reducido:\n",
    "        return np.sum( ( (y - GetModel(x,p))/sigma  )**2 )\n",
    "    else:\n",
    "        return np.sum( ( (y - GetModel(x,p))/sigma  )**2 )/df"
   ]
  },
  {
   "cell_type": "code",
   "execution_count": 11,
   "id": "7321fe09",
   "metadata": {},
   "outputs": [
    {
     "data": {
      "text/plain": [
       "4.576550900402449"
      ]
     },
     "execution_count": 11,
     "metadata": {},
     "output_type": "execute_result"
    }
   ],
   "source": [
    "GetChi2(x,y,sigma,param)"
   ]
  },
  {
   "cell_type": "code",
   "execution_count": 12,
   "id": "ea8b79ca",
   "metadata": {},
   "outputs": [
    {
     "name": "stdout",
     "output_type": "stream",
     "text": [
      "-0.0344043618490462*x**4 + 0.657586862575601*x**3 - 0.938528494399337*x**2 + 13.429051533601*x - 0.994299438458829\n",
      "[201.47511066   4.5765509    5.37237622   3.50589501   4.22611989\n",
      "   3.35157162   3.31597723   3.65211958   4.01370423   4.54519956\n",
      "   4.79846811   5.46948199   8.64902866  10.10295222  12.56215427\n",
      "  18.22845556]\n"
     ]
    }
   ],
   "source": [
    "Vector_Chi2 = np.array([])\n",
    "nparam = 18\n",
    "\n",
    "for i in range(2,nparam):\n",
    "    \n",
    "    param = GetFit(x,y,i-1)\n",
    "    Chi2 = GetChi2(x,y,sigma,param)\n",
    "    Vector_Chi2= np.append(Vector_Chi2 , Chi2)\n",
    "    if i == 5:\n",
    "        print(GetModel(X,param))\n",
    "\n",
    "print(Vector_Chi2)"
   ]
  },
  {
   "cell_type": "code",
   "execution_count": 13,
   "id": "0a8049c5",
   "metadata": {},
   "outputs": [
    {
     "data": {
      "text/plain": [
       "<matplotlib.collections.PathCollection at 0x7fbfe3fbe550>"
      ]
     },
     "execution_count": 13,
     "metadata": {},
     "output_type": "execute_result"
    },
    {
     "data": {
      "image/png": "[encoded data removed]",
      "text/plain": [
       "<Figure size 432x288 with 1 Axes>"
      ]
     },
     "metadata": {
      "needs_background": "light"
     },
     "output_type": "display_data"
    }
   ],
   "source": [
    "plt.scatter(np.arange(2,nparam,1),np.min(Vector_Chi2)/Vector_Chi2)"
   ]
  },
  {
   "cell_type": "code",
   "execution_count": null,
   "id": "a545203c",
   "metadata": {},
   "outputs": [],
   "source": []
  }
 ],
 "metadata": {
  "kernelspec": {
   "display_name": "Python 3 (ipykernel)",
   "language": "python",
   "name": "python3"
  },
  "language_info": {
   "codemirror_mode": {
    "name": "ipython",
    "version": 3
   },
   "file_extension": ".py",
   "mimetype": "text/x-python",
   "name": "python",
   "nbconvert_exporter": "python",
   "pygments_lexer": "ipython3",
   "version": "3.9.12"
  }
 },
 "nbformat": 4,
 "nbformat_minor": 5
}
