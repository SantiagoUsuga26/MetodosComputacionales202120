{
 "cells": [
  {
   "cell_type": "code",
   "execution_count": 1,
   "id": "f0333911",
   "metadata": {},
   "outputs": [],
   "source": [
    "import numpy as np\n",
    "import matplotlib.pyplot as plt\n",
    "from scipy import integrate"
   ]
  },
  {
   "cell_type": "code",
   "execution_count": 12,
   "id": "30071449",
   "metadata": {},
   "outputs": [],
   "source": [
    "class Integrator:\n",
    "    \n",
    "    def __init__(self, x,y):\n",
    "        \n",
    "        self.x = x\n",
    "        self.y = y\n",
    "        self.h = self.x[1] - self.x[0]\n",
    "        \n",
    "        self.integral = 0.\n",
    "        \n",
    "    def Trapezoid(self):\n",
    "        \n",
    "        self.integral = 0.\n",
    "        \n",
    "        self.integral += 0.5*(self.y[0] + self.y[-1])\n",
    "        \n",
    "        self.integral += np.sum( self.y[1:-1] )\n",
    "        \n",
    "        return self.integral*self.h\n",
    "    \n",
    "    def GetTrapezoidError(self,f):\n",
    "        \n",
    "        d = (f( self.x + self.h ) - 2*f(self.x) + f( self.x - self.h))/self.h**2 \n",
    "        \n",
    "        \n",
    "        max_ = np.max(np.abs(d))\n",
    "        \n",
    "        self.error = (max_* (self.x[-1]-self.x[0])**3 )/(12*(len(self.x)-1)**2)\n",
    "        \n",
    "        return self.error\n",
    "    \n",
    "    def Simpson(self):\n",
    "        \n",
    "        self.integral = 0.\n",
    "        \n",
    "        self.integral += self.y[0] + self.y[-1]\n",
    "        \n",
    "        for i in range( len(y[1:-1]) ):\n",
    "            if i%2 == 0:\n",
    "                self.integral += 4*y[i+1]\n",
    "            else:\n",
    "                self.integral += 2*y[i+1]\n",
    "                \n",
    "        return self.integral*self.h/3\n",
    "    \n",
    "    def GetSimpsonError(self,f):\n",
    "        \n",
    "        d = (f( self.x + 2*self.h ) - \\\n",
    "             4*f( self.x + self.h ) + \\\n",
    "             6*f(self.x) - \\\n",
    "             4*f( self.x - self.h ) + \\\n",
    "             f(self.x - 2*self.h))/self.h**4\n",
    "        \n",
    "        max_ = np.max( np.abs(d) )\n",
    "        \n",
    "        self.error = (self.x[-1] - self.x[0])*self.h**4 * max_ / 180.\n",
    "        \n",
    "        return self.error"
   ]
  },
  {
   "cell_type": "code",
   "execution_count": 13,
   "id": "decc3905",
   "metadata": {},
   "outputs": [],
   "source": [
    "sin = lambda x: np.sin(x)\n",
    "N = 12\n",
    "x = np.linspace(0,0.5*np.pi,N+1)\n",
    "y = sin(x)"
   ]
  },
  {
   "cell_type": "code",
   "execution_count": 14,
   "id": "376a1e74",
   "metadata": {},
   "outputs": [
    {
     "data": {
      "text/plain": [
       "<matplotlib.collections.PathCollection at 0x7fe523276fd0>"
      ]
     },
     "execution_count": 14,
     "metadata": {},
     "output_type": "execute_result"
    },
    {
     "data": {
      "image/png": "[encoded data removed]",
      "text/plain": [
       "<Figure size 432x288 with 1 Axes>"
      ]
     },
     "metadata": {
      "needs_background": "light"
     },
     "output_type": "display_data"
    }
   ],
   "source": [
    "plt.scatter(x,y,color='r')"
   ]
  },
  {
   "cell_type": "code",
   "execution_count": 15,
   "id": "f2a72b78",
   "metadata": {},
   "outputs": [
    {
     "data": {
      "text/plain": [
       "<__main__.Integrator at 0x7fe52322a130>"
      ]
     },
     "execution_count": 15,
     "metadata": {},
     "output_type": "execute_result"
    }
   ],
   "source": [
    "int1 = Integrator(x,y)\n",
    "int1"
   ]
  },
  {
   "cell_type": "code",
   "execution_count": 16,
   "id": "9adc8fc1",
   "metadata": {},
   "outputs": [
    {
     "data": {
      "text/plain": [
       "0.9985716979019743"
      ]
     },
     "execution_count": 16,
     "metadata": {},
     "output_type": "execute_result"
    }
   ],
   "source": [
    "int1.Trapezoid()"
   ]
  },
  {
   "cell_type": "code",
   "execution_count": 17,
   "id": "328addfb",
   "metadata": {},
   "outputs": [
    {
     "data": {
      "text/plain": [
       "0.002239730054873284"
      ]
     },
     "execution_count": 17,
     "metadata": {},
     "output_type": "execute_result"
    }
   ],
   "source": [
    "int1.GetTrapezoidError(sin)"
   ]
  },
  {
   "cell_type": "markdown",
   "id": "95776193",
   "metadata": {},
   "source": [
    "$$ 0.998 \\pm 0.002 $$\n",
    "\n",
    "$$ 0.998(2) $$"
   ]
  },
  {
   "cell_type": "code",
   "execution_count": 18,
   "id": "c9cbcc8d",
   "metadata": {},
   "outputs": [
    {
     "data": {
      "text/plain": [
       "0.9985716979019744"
      ]
     },
     "execution_count": 18,
     "metadata": {},
     "output_type": "execute_result"
    }
   ],
   "source": [
    "integrate.trapezoid(y,x)"
   ]
  },
  {
   "cell_type": "code",
   "execution_count": 19,
   "id": "587627f6",
   "metadata": {},
   "outputs": [
    {
     "data": {
      "text/plain": [
       "1.0000016344385794"
      ]
     },
     "execution_count": 19,
     "metadata": {},
     "output_type": "execute_result"
    }
   ],
   "source": [
    "int1.Simpson()"
   ]
  },
  {
   "cell_type": "code",
   "execution_count": 22,
   "id": "77884ce6",
   "metadata": {},
   "outputs": [
    {
     "data": {
      "text/plain": [
       "2.5548268139593947e-06"
      ]
     },
     "execution_count": 22,
     "metadata": {},
     "output_type": "execute_result"
    }
   ],
   "source": [
    "int1.GetSimpsonError(sin)"
   ]
  },
  {
   "cell_type": "code",
   "execution_count": 20,
   "id": "ca4e7d5b",
   "metadata": {},
   "outputs": [
    {
     "data": {
      "text/plain": [
       "1.0000016344385798"
      ]
     },
     "execution_count": 20,
     "metadata": {},
     "output_type": "execute_result"
    }
   ],
   "source": [
    "integrate.simpson(y,x)"
   ]
  },
  {
   "cell_type": "markdown",
   "id": "533b8aae",
   "metadata": {},
   "source": [
    "$$ I = 1.000001 \\pm 0.000003  $$ "
   ]
  },
  {
   "cell_type": "code",
   "execution_count": null,
   "id": "4a471924",
   "metadata": {},
   "outputs": [],
   "source": [
    "]"
   ]
  }
 ],
 "metadata": {
  "kernelspec": {
   "display_name": "Python 3 (ipykernel)",
   "language": "python",
   "name": "python3"
  },
  "language_info": {
   "codemirror_mode": {
    "name": "ipython",
    "version": 3
   },
   "file_extension": ".py",
   "mimetype": "text/x-python",
   "name": "python",
   "nbconvert_exporter": "python",
   "pygments_lexer": "ipython3",
   "version": "3.9.12"
  }
 },
 "nbformat": 4,
 "nbformat_minor": 5
}
