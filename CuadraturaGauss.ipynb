{
 "cells": [
  {
   "cell_type": "code",
   "execution_count": 1,
   "id": "8626ea51",
   "metadata": {},
   "outputs": [],
   "source": [
    "import numpy as np\n",
    "import matplotlib.pyplot as plt\n",
    "import sympy as sym"
   ]
  },
  {
   "cell_type": "code",
   "execution_count": 2,
   "id": "ca7ca7e6",
   "metadata": {},
   "outputs": [],
   "source": [
    "def GetNewtonMethod(f,df,xn,itmax = 100000, precision=1e-12):\n",
    "    \n",
    "    error = 1.\n",
    "    it = 0\n",
    "    \n",
    "    while error > precision and it < itmax:\n",
    "        \n",
    "        try:\n",
    "            \n",
    "            xn1 = xn - f(xn)/df(xn)\n",
    "            \n",
    "           # error = np.abs( (xn1-xn) )\n",
    "            error = np.abs(f(xn)/df(xn))\n",
    "        \n",
    "        except ZeroDivisionError:\n",
    "            print(\"zero division\")\n",
    "            \n",
    "        xn  = xn1\n",
    "        it += 1\n",
    "    \n",
    "    #print('Raiz:',xn,it)\n",
    "    \n",
    "    if it == itmax:\n",
    "        return False\n",
    "    else:\n",
    "        return xn"
   ]
  },
  {
   "cell_type": "code",
   "execution_count": 3,
   "id": "151b11f9",
   "metadata": {},
   "outputs": [],
   "source": [
    "def GetAllRoots(f,df,x, tolerancia=9):\n",
    "    \n",
    "    Roots = np.array([])\n",
    "    \n",
    "    for i in x:\n",
    "        \n",
    "        root = GetNewtonMethod(f,df,i)\n",
    "          \n",
    "        if root != False:\n",
    "            \n",
    "            croot = np.round( root, tolerancia ) \n",
    "            \n",
    "            if croot not in Roots:\n",
    "                Roots = np.append( Roots, croot )\n",
    "                \n",
    "    # Ordenamos las raices\n",
    "    Roots.sort()\n",
    "    \n",
    "    return Roots"
   ]
  },
  {
   "cell_type": "code",
   "execution_count": 4,
   "id": "dac64169",
   "metadata": {},
   "outputs": [],
   "source": [
    "def GetLegendre(n):\n",
    "    \n",
    "    x = sym.Symbol('x',Real=True)\n",
    "    y = sym.Symbol('y',Real=True)\n",
    "    \n",
    "    y = (x**2 - 1)**n\n",
    "    \n",
    "    p = sym.diff(y,x,n)/(2**n * np.math.factorial(n))\n",
    "    \n",
    "    return p"
   ]
  },
  {
   "cell_type": "code",
   "execution_count": 5,
   "id": "713491eb",
   "metadata": {},
   "outputs": [],
   "source": [
    "Legendre = []\n",
    "DerLegendre = []\n",
    "\n",
    "x = sym.Symbol('x',Real=True)\n",
    "n=20\n",
    "\n",
    "for i in range(n+1):\n",
    "    \n",
    "    poly = GetLegendre(i)\n",
    "    \n",
    "    Legendre.append(poly)\n",
    "    DerLegendre.append(sym.diff(poly,x,1))"
   ]
  },
  {
   "cell_type": "code",
   "execution_count": 7,
   "id": "94b3f6c6",
   "metadata": {},
   "outputs": [],
   "source": [
    "#Legendre"
   ]
  },
  {
   "cell_type": "code",
   "execution_count": 8,
   "id": "ab8b4dc5",
   "metadata": {},
   "outputs": [],
   "source": [
    "def GetRootsPolynomial(n,xi,poly,dpoly):\n",
    "    \n",
    "    x = sym.Symbol('x',Real=True)\n",
    "    \n",
    "    pn = sym.lambdify([x],poly[n],'numpy')\n",
    "    dpn = sym.lambdify([x],dpoly[n],'numpy')\n",
    "    Roots = GetAllRoots(pn,dpn,xi,tolerancia=8)\n",
    "    \n",
    "    return Roots"
   ]
  },
  {
   "cell_type": "code",
   "execution_count": 27,
   "id": "a19ef9a7",
   "metadata": {},
   "outputs": [],
   "source": [
    "xi = np.linspace(-1,1,100)\n",
    "n = 6\n",
    "Roots = GetRootsPolynomial(n,xi,Legendre,DerLegendre)"
   ]
  },
  {
   "cell_type": "code",
   "execution_count": 28,
   "id": "ab3b3eac",
   "metadata": {},
   "outputs": [
    {
     "data": {
      "text/plain": [
       "array([-0.93246951, -0.66120939, -0.23861919,  0.23861919,  0.66120939,\n",
       "        0.93246951])"
      ]
     },
     "execution_count": 28,
     "metadata": {},
     "output_type": "execute_result"
    }
   ],
   "source": [
    "Roots"
   ]
  },
  {
   "cell_type": "code",
   "execution_count": 31,
   "id": "200184c9",
   "metadata": {},
   "outputs": [],
   "source": [
    "def GetWeights(Roots,Dpoly):\n",
    "    \n",
    "    Weights = []\n",
    "    x = sym.Symbol('x',Real=True)\n",
    "    dpn = sym.lambdify([x],Dpoly[n],'numpy')\n",
    "    \n",
    "    for r in Roots:\n",
    "        \n",
    "        Weights.append( 2/(( 1- r**2 )*dpn(r)**2) )\n",
    "        \n",
    "    return Weights"
   ]
  },
  {
   "cell_type": "code",
   "execution_count": 32,
   "id": "8ed7ff9e",
   "metadata": {},
   "outputs": [
    {
     "data": {
      "text/plain": [
       "[0.17132450266991275,\n",
       " 0.36076157005265164,\n",
       " 0.4679139336452354,\n",
       " 0.4679139336452354,\n",
       " 0.36076157005265164,\n",
       " 0.17132450266991275]"
      ]
     },
     "execution_count": 32,
     "metadata": {},
     "output_type": "execute_result"
    }
   ],
   "source": [
    "Weights = GetWeights(Roots,DerLegendre)\n",
    "Weights"
   ]
  },
  {
   "cell_type": "code",
   "execution_count": 38,
   "id": "6898d179",
   "metadata": {},
   "outputs": [],
   "source": [
    "a = 0\n",
    "b = 0.25*np.pi\n",
    "f = lambda x : np.sin(x)"
   ]
  },
  {
   "cell_type": "code",
   "execution_count": 41,
   "id": "b38bdd8d",
   "metadata": {},
   "outputs": [],
   "source": [
    "t = 0.5*((b-a)*Roots + a + b)"
   ]
  },
  {
   "cell_type": "code",
   "execution_count": 43,
   "id": "06021bdb",
   "metadata": {},
   "outputs": [
    {
     "data": {
      "text/plain": [
       "(0.2928932188134525, 0.2928932188134524)"
      ]
     },
     "execution_count": 43,
     "metadata": {},
     "output_type": "execute_result"
    }
   ],
   "source": [
    "Integral = 0.5*(b-a)*np.sum( Weights*f(t) )\n",
    "Integral,1-np.cos( 0.25*np.pi )"
   ]
  },
  {
   "cell_type": "markdown",
   "id": "d6d09a76",
   "metadata": {},
   "source": [
    "# Usando numpy"
   ]
  },
  {
   "cell_type": "code",
   "execution_count": 34,
   "id": "c449a8fe",
   "metadata": {},
   "outputs": [],
   "source": [
    "Roots,Weights = np.polynomial.legendre.leggauss(6)"
   ]
  },
  {
   "cell_type": "code",
   "execution_count": 36,
   "id": "bbd265f9",
   "metadata": {},
   "outputs": [
    {
     "data": {
      "text/plain": [
       "array([0.17132449, 0.36076157, 0.46791393, 0.46791393, 0.36076157,\n",
       "       0.17132449])"
      ]
     },
     "execution_count": 36,
     "metadata": {},
     "output_type": "execute_result"
    }
   ],
   "source": [
    "Roots\n",
    "Weights"
   ]
  },
  {
   "cell_type": "code",
   "execution_count": null,
   "id": "dceceb0f",
   "metadata": {},
   "outputs": [],
   "source": []
  }
 ],
 "metadata": {
  "kernelspec": {
   "display_name": "Python 3 (ipykernel)",
   "language": "python",
   "name": "python3"
  },
  "language_info": {
   "codemirror_mode": {
    "name": "ipython",
    "version": 3
   },
   "file_extension": ".py",
   "mimetype": "text/x-python",
   "name": "python",
   "nbconvert_exporter": "python",
   "pygments_lexer": "ipython3",
   "version": "3.9.12"
  }
 },
 "nbformat": 4,
 "nbformat_minor": 5
}
