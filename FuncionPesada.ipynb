{
 "cells": [
  {
   "cell_type": "code",
   "execution_count": 1,
   "id": "f808a04a",
   "metadata": {},
   "outputs": [],
   "source": [
    "import numpy as np\n",
    "import matplotlib.pyplot as plt\n",
    "import sympy as sym"
   ]
  },
  {
   "cell_type": "markdown",
   "id": "21835713",
   "metadata": {},
   "source": [
    "$$ \\int_{0}^{\\infty} e^{-x} sin(x) dx$$"
   ]
  },
  {
   "cell_type": "code",
   "execution_count": 5,
   "id": "78bf5f8e",
   "metadata": {},
   "outputs": [
    {
     "data": {
      "text/latex": [
       "$\\displaystyle e^{- x} \\sin{\\left(x \\right)}$"
      ],
      "text/plain": [
       "exp(-x)*sin(x)"
      ]
     },
     "execution_count": 5,
     "metadata": {},
     "output_type": "execute_result"
    }
   ],
   "source": [
    "x = sym.Symbol('x',real=True)\n",
    "F = sym.exp(-x)*sym.sin(x)\n",
    "F"
   ]
  },
  {
   "cell_type": "code",
   "execution_count": 7,
   "id": "7ffe7d47",
   "metadata": {},
   "outputs": [
    {
     "data": {
      "text/latex": [
       "$\\displaystyle \\frac{1}{2}$"
      ],
      "text/plain": [
       "1/2"
      ]
     },
     "execution_count": 7,
     "metadata": {},
     "output_type": "execute_result"
    }
   ],
   "source": [
    "I = sym.integrate( F, (x,0,sym.oo) )\n",
    "I"
   ]
  },
  {
   "cell_type": "code",
   "execution_count": 17,
   "id": "601f2dd7",
   "metadata": {},
   "outputs": [],
   "source": [
    "points = np.random.exponential( 1, size=int(1e6) )"
   ]
  },
  {
   "cell_type": "code",
   "execution_count": 18,
   "id": "36e0d4cc",
   "metadata": {},
   "outputs": [
    {
     "data": {
      "image/png": "[encoded data removed]",
      "text/plain": [
       "<Figure size 432x288 with 1 Axes>"
      ]
     },
     "metadata": {
      "needs_background": "light"
     },
     "output_type": "display_data"
    }
   ],
   "source": [
    "plt.hist(points, bins=50, density=True);"
   ]
  },
  {
   "cell_type": "code",
   "execution_count": 19,
   "id": "5331342b",
   "metadata": {},
   "outputs": [
    {
     "data": {
      "text/plain": [
       "0.5000802050228924"
      ]
     },
     "execution_count": 19,
     "metadata": {},
     "output_type": "execute_result"
    }
   ],
   "source": [
    "Integral = np.average( np.sin( points ) )\n",
    "Integral"
   ]
  },
  {
   "cell_type": "code",
   "execution_count": null,
   "id": "bc5f436f",
   "metadata": {},
   "outputs": [],
   "source": []
  }
 ],
 "metadata": {
  "kernelspec": {
   "display_name": "Python 3 (ipykernel)",
   "language": "python",
   "name": "python3"
  },
  "language_info": {
   "codemirror_mode": {
    "name": "ipython",
    "version": 3
   },
   "file_extension": ".py",
   "mimetype": "text/x-python",
   "name": "python",
   "nbconvert_exporter": "python",
   "pygments_lexer": "ipython3",
   "version": "3.9.12"
  }
 },
 "nbformat": 4,
 "nbformat_minor": 5
}
