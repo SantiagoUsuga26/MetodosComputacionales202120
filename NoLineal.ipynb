{
 "cells": [
  {
   "cell_type": "code",
   "execution_count": 4,
   "id": "e5a01c19",
   "metadata": {},
   "outputs": [],
   "source": [
    "import numpy as np\n",
    "import matplotlib.pyplot as plt"
   ]
  },
  {
   "cell_type": "code",
   "execution_count": 5,
   "id": "92e0ee8b",
   "metadata": {},
   "outputs": [],
   "source": [
    "# Definamos el sistema en una tupla\n",
    "G=(lambda x,y,z: 3*x - np.cos(y*z) - 1.5, \\\n",
    "   lambda x,y,z: 4*x**2 - 625*y**2 + 2*y -1, \\\n",
    "   lambda x,y,z: np.exp(-x*y) + 20*z + 9.471975 )"
   ]
  },
  {
   "cell_type": "code",
   "execution_count": 6,
   "id": "7542c879",
   "metadata": {},
   "outputs": [
    {
     "name": "stdout",
     "output_type": "stream",
     "text": [
      "-2.5\n",
      "-1\n",
      "10.471975\n"
     ]
    }
   ],
   "source": [
    "for i in range(3):\n",
    "    print(G[i](0,0,0))"
   ]
  },
  {
   "cell_type": "code",
   "execution_count": 7,
   "id": "40abf9fc",
   "metadata": {},
   "outputs": [],
   "source": [
    "def GetVectorF(G,r):\n",
    "    \n",
    "    dim = len(G)\n",
    "    \n",
    "    v = np.zeros(dim)\n",
    "    \n",
    "    for i in range(dim):\n",
    "        v[i] = G[i](r[0],r[1],r[2])\n",
    "        \n",
    "    return v"
   ]
  },
  {
   "cell_type": "code",
   "execution_count": 8,
   "id": "9e462e4f",
   "metadata": {},
   "outputs": [
    {
     "data": {
      "text/plain": [
       "array([-2.5     , -1.      , 10.471975])"
      ]
     },
     "execution_count": 8,
     "metadata": {},
     "output_type": "execute_result"
    }
   ],
   "source": [
    "GetVectorF(G,[0,0,0])"
   ]
  },
  {
   "cell_type": "code",
   "execution_count": 9,
   "id": "7a625412",
   "metadata": {},
   "outputs": [],
   "source": [
    "def GetJacobian(G,r,h=1e-6):\n",
    "    \n",
    "    dim = len(G)\n",
    "    \n",
    "    J = np.zeros((dim,dim))\n",
    "    \n",
    "    for i in range(dim):\n",
    "        J[i,0] = (  G[i](r[0]+h,r[1],r[2]) - G[i](r[0]-h,r[1],r[2]) )/(2*h)\n",
    "        J[i,1] = (  G[i](r[0],r[1]+h,r[2]) - G[i](r[0],r[1]-h,r[2]) )/(2*h)\n",
    "        J[i,2] = (  G[i](r[0],r[1],r[2]+h) - G[i](r[0],r[1],r[2]-h) )/(2*h)\n",
    "        \n",
    "    return J.T"
   ]
  },
  {
   "cell_type": "code",
   "execution_count": 11,
   "id": "88433204",
   "metadata": {},
   "outputs": [
    {
     "data": {
      "text/plain": [
       "array([[ 3.00000000e+00,  0.00000000e+00, -9.99999999e-01],\n",
       "       [ 8.41470985e-01, -1.24800000e+03,  0.00000000e+00],\n",
       "       [-8.41470985e-01,  0.00000000e+00,  2.00000000e+01]])"
      ]
     },
     "execution_count": 11,
     "metadata": {},
     "output_type": "execute_result"
    }
   ],
   "source": [
    "GetJacobian(G,[0,1,-1])"
   ]
  },
  {
   "cell_type": "code",
   "execution_count": 16,
   "id": "fe5047f3",
   "metadata": {},
   "outputs": [],
   "source": [
    "def NewtonRaphson(G,r,error=1e-10):\n",
    "    \n",
    "    it = 0\n",
    "    d = 1\n",
    "    Vector_d = np.array([])\n",
    "    \n",
    "    while d > error:\n",
    "        \n",
    "        it += 1\n",
    "        \n",
    "        rc = r\n",
    "        \n",
    "        F = GetVectorF(G,r)\n",
    "        J = GetJacobian(G,r)\n",
    "        InvJ = np.linalg.inv(J)\n",
    "        \n",
    "        r = rc - np.dot( InvJ, F )\n",
    "        \n",
    "        diff = r - rc\n",
    "        print(diff)\n",
    "        \n",
    "        d = np.linalg.norm(diff)\n",
    "        \n",
    "        Vector_d = np.append( Vector_d , d )\n",
    "        \n",
    "    return r,it,Vector_d\n"
   ]
  },
  {
   "cell_type": "code",
   "execution_count": 19,
   "id": "eafe48bc",
   "metadata": {},
   "outputs": [
    {
     "name": "stdout",
     "output_type": "stream",
     "text": [
      "[ 2.17430801 -0.99854276 -3.41961198]\n",
      "[ 1.59341957 -0.46825817 -0.02351798]\n",
      "[-2.28137304 -0.13079838 -0.04864096]\n",
      "[-0.6441987  -0.15315556 -0.00276061]\n",
      "[-0.60289101 -0.08327236 -0.01158206]\n",
      "[-0.21861403 -0.05715138 -0.00834189]\n",
      "[-0.10640755 -0.02996594 -0.00391954]\n",
      "[-0.04627122 -0.01433974 -0.00175341]\n",
      "[-0.02134314 -0.00583189 -0.0007497 ]\n",
      "[-0.00814856 -0.0023512  -0.00029789]\n",
      "[-0.00338251 -0.00085432 -0.00011624]\n",
      "[-1.14001569e-03 -3.43349877e-04 -4.29453040e-05]\n",
      "[-5.06690781e-04 -1.15006341e-04 -1.66395526e-05]\n",
      "[-1.42147318e-04 -5.07797333e-05 -5.88271620e-06]\n",
      "[-8.08649869e-05 -1.42580781e-05 -2.38966292e-06]\n",
      "[-1.36130160e-05 -8.08871957e-06 -7.74428223e-07]\n",
      "[-1.48889495e-05 -1.36664683e-06 -3.57731846e-07]\n",
      "[ 2.81102599e-07 -1.48812002e-06 -9.22674742e-08]\n",
      "[-3.35814713e-06  2.68645592e-08 -5.87695722e-08]\n",
      "[ 8.05575948e-07 -3.35373730e-07 -7.41596684e-09]\n",
      "[-9.21723048e-07  8.01881271e-08 -1.13682986e-08]\n",
      "[ 3.82372030e-07 -9.19933982e-08  8.74915473e-10]\n",
      "[-2.88688835e-07  3.81159754e-08 -2.71029943e-09]\n",
      "[ 1.48553424e-07 -2.88024700e-08  7.93662025e-10]\n",
      "[-9.67928354e-08  1.48138121e-08 -7.75676634e-10]\n",
      "[ 5.43125863e-08 -9.65538918e-09  3.47406215e-10]\n",
      "[-3.34503886e-08  5.41677592e-09 -2.48618237e-10]\n",
      "[ 1.94281942e-08 -3.33654333e-09  1.31942679e-10]\n",
      "[-1.17057953e-08  1.93773272e-09 -8.42453884e-11]\n",
      "[ 6.89216839e-09 -1.16757282e-09  4.78578288e-11]\n",
      "[-4.11705336e-09  6.87425193e-10 -2.92437186e-11]\n",
      "[ 2.43712450e-09 -4.10643110e-10  1.70680137e-11]\n",
      "[-1.45090617e-09  2.43080688e-10 -1.02521325e-11]\n",
      "[ 8.60698068e-10 -1.44715628e-10  6.04793993e-12]\n",
      "[-5.11722664e-10  8.58469407e-11 -3.60833585e-12]\n",
      "[ 3.03814307e-10 -5.10399153e-11  2.13773443e-12]\n",
      "[-1.80536253e-10  3.03027950e-11 -1.27209354e-12]\n",
      "[ 1.07221121e-10 -1.80069154e-11  7.54729612e-13]\n",
      "[-6.37012665e-11  1.06943551e-11 -4.48641124e-13]\n",
      "[ 0.83319658  0.05494366 -0.52136141] 39\n"
     ]
    }
   ],
   "source": [
    "r,it,distancias = NewtonRaphson(G,[1,2,3])\n",
    "print(r,it)"
   ]
  },
  {
   "cell_type": "code",
   "execution_count": 20,
   "id": "2554cc5d",
   "metadata": {},
   "outputs": [
    {
     "data": {
      "text/plain": [
       "[<matplotlib.lines.Line2D at 0x7f9d74f20430>]"
      ]
     },
     "execution_count": 20,
     "metadata": {},
     "output_type": "execute_result"
    },
    {
     "data": {
      "image/png": "[encoded data removed]",
      "text/plain": [
       "<Figure size 432x288 with 1 Axes>"
      ]
     },
     "metadata": {
      "needs_background": "light"
     },
     "output_type": "display_data"
    }
   ],
   "source": [
    "plt.plot(distancias)"
   ]
  },
  {
   "cell_type": "code",
   "execution_count": 15,
   "id": "64c1f7ff",
   "metadata": {},
   "outputs": [
    {
     "data": {
      "text/plain": [
       "array([-0., -0., -0.])"
      ]
     },
     "execution_count": 15,
     "metadata": {},
     "output_type": "execute_result"
    }
   ],
   "source": [
    "np.round(GetVectorF(G,r))"
   ]
  },
  {
   "cell_type": "code",
   "execution_count": null,
   "id": "75666ba5",
   "metadata": {},
   "outputs": [],
   "source": []
  }
 ],
 "metadata": {
  "kernelspec": {
   "display_name": "Python 3 (ipykernel)",
   "language": "python",
   "name": "python3"
  },
  "language_info": {
   "codemirror_mode": {
    "name": "ipython",
    "version": 3
   },
   "file_extension": ".py",
   "mimetype": "text/x-python",
   "name": "python",
   "nbconvert_exporter": "python",
   "pygments_lexer": "ipython3",
   "version": "3.9.12"
  }
 },
 "nbformat": 4,
 "nbformat_minor": 5
}
