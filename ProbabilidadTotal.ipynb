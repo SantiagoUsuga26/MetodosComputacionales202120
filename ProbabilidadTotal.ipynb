{
 "cells": [
  {
   "cell_type": "code",
   "execution_count": 2,
   "id": "8d9fd713",
   "metadata": {},
   "outputs": [],
   "source": [
    "import numpy as np\n",
    "import matplotlib.pyplot as plt"
   ]
  },
  {
   "cell_type": "code",
   "execution_count": 3,
   "id": "390ea71c",
   "metadata": {},
   "outputs": [],
   "source": [
    "Sexo = np.array([0,1]) # Hombre 1 mujer\n",
    "Gafas = np.array([0,1]) "
   ]
  },
  {
   "cell_type": "code",
   "execution_count": 4,
   "id": "d61e2e13",
   "metadata": {},
   "outputs": [],
   "source": [
    "PSexo = np.array([15/35,20/35])\n",
    "PGafasHombre = np.array([10/15,5/15])\n",
    "PGafasMujer = np.array([12/20,8/20])"
   ]
  },
  {
   "cell_type": "code",
   "execution_count": 6,
   "id": "b372d0be",
   "metadata": {},
   "outputs": [],
   "source": [
    "N = int(1e4)\n",
    "\n",
    "LSexo = np.zeros(N)\n",
    "LGafas = np.zeros(N)\n",
    "\n",
    "for i in range(N):\n",
    "    \n",
    "    LSexo[i] = np.random.choice(Sexo, p=PSexo)\n",
    "    \n",
    "    if LSexo[i] == 0:\n",
    "        g = np.random.choice(Gafas, p=PGafasHombre)\n",
    "        if g == 1:\n",
    "            LGafas[i] = 1\n",
    "    else:\n",
    "        g = np.random.choice(Gafas, p=PGafasMujer)\n",
    "        if g == 1:\n",
    "            LGafas[i] = 1"
   ]
  },
  {
   "cell_type": "code",
   "execution_count": 7,
   "id": "bff71331",
   "metadata": {},
   "outputs": [
    {
     "data": {
      "text/plain": [
       "(array([6283.,    0.,    0.,    0.,    0.,    0.,    0.,    0.,    0.,\n",
       "        3717.]),\n",
       " array([0. , 0.1, 0.2, 0.3, 0.4, 0.5, 0.6, 0.7, 0.8, 0.9, 1. ]),\n",
       " <BarContainer object of 10 artists>)"
      ]
     },
     "execution_count": 7,
     "metadata": {},
     "output_type": "execute_result"
    },
    {
     "data": {
      "image/png": "[encoded data removed]",
      "text/plain": [
       "<Figure size 432x288 with 1 Axes>"
      ]
     },
     "metadata": {
      "needs_background": "light"
     },
     "output_type": "display_data"
    }
   ],
   "source": [
    "plt.hist(LGafas)"
   ]
  },
  {
   "cell_type": "code",
   "execution_count": 8,
   "id": "d8044f81",
   "metadata": {},
   "outputs": [],
   "source": [
    "x = np.linspace(0,2,3)\n",
    "h,bins=np.histogram(LGafas,x)"
   ]
  },
  {
   "cell_type": "code",
   "execution_count": 9,
   "id": "9a63d75b",
   "metadata": {},
   "outputs": [
    {
     "data": {
      "text/plain": [
       "array([6283, 3717])"
      ]
     },
     "execution_count": 9,
     "metadata": {},
     "output_type": "execute_result"
    }
   ],
   "source": [
    "h"
   ]
  },
  {
   "cell_type": "code",
   "execution_count": 12,
   "id": "217d00e1",
   "metadata": {},
   "outputs": [],
   "source": [
    "ncoins = 3\n",
    "\n",
    "events = [-1,1]\n",
    "\n",
    "Sample = np.zeros((N,ncoins))\n",
    "\n",
    "for i in range(N):\n",
    "    \n",
    "    exp = np.random.choice(events, ncoins)\n",
    "    Sample[i] = exp"
   ]
  },
  {
   "cell_type": "code",
   "execution_count": 13,
   "id": "3126f2f6",
   "metadata": {},
   "outputs": [
    {
     "data": {
      "text/plain": [
       "array([[-1., -1.,  1.],\n",
       "       [ 1.,  1., -1.],\n",
       "       [-1., -1., -1.],\n",
       "       ...,\n",
       "       [-1.,  1., -1.],\n",
       "       [ 1., -1.,  1.],\n",
       "       [ 1., -1.,  1.]])"
      ]
     },
     "execution_count": 13,
     "metadata": {},
     "output_type": "execute_result"
    }
   ],
   "source": [
    "Sample"
   ]
  },
  {
   "cell_type": "code",
   "execution_count": 15,
   "id": "f2eb0557",
   "metadata": {},
   "outputs": [
    {
     "name": "stdout",
     "output_type": "stream",
     "text": [
      "0.3818 0.375\n"
     ]
    }
   ],
   "source": [
    "events = 0\n",
    "\n",
    "for i in range(len(Sample)):\n",
    "    \n",
    "    NCaras = 0\n",
    "    \n",
    "    for j in range(ncoins):\n",
    "        \n",
    "        if Sample[i][j] == 1:\n",
    "            NCaras += 1\n",
    "            \n",
    "    if NCaras == 2:\n",
    "        events += 1\n",
    "        \n",
    "print(events/N,3/8)"
   ]
  },
  {
   "cell_type": "code",
   "execution_count": null,
   "id": "3e58effd",
   "metadata": {},
   "outputs": [],
   "source": []
  }
 ],
 "metadata": {
  "kernelspec": {
   "display_name": "Python 3 (ipykernel)",
   "language": "python",
   "name": "python3"
  },
  "language_info": {
   "codemirror_mode": {
    "name": "ipython",
    "version": 3
   },
   "file_extension": ".py",
   "mimetype": "text/x-python",
   "name": "python",
   "nbconvert_exporter": "python",
   "pygments_lexer": "ipython3",
   "version": "3.9.12"
  }
 },
 "nbformat": 4,
 "nbformat_minor": 5
}
